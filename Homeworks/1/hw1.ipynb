{
 "cells": [
  {
   "cell_type": "markdown",
   "id": "10e17b5a",
   "metadata": {},
   "source": [
    "# Завдання"
   ]
  },
  {
   "cell_type": "markdown",
   "id": "cb244958",
   "metadata": {},
   "source": [
    "a.\tРеалізувати множення великих матриць самотужки (якомога оптимальніше) <br>\n",
    "b.\tРеалізувати множення великих матриць за допомогою numpy (метод dot) <br>\n",
    "c.\tПорівняти час виконання"
   ]
  },
  {
   "cell_type": "code",
   "execution_count": 36,
   "id": "8c1c76fb",
   "metadata": {},
   "outputs": [
    {
     "name": "stdout",
     "output_type": "stream",
     "text": [
      "time1 =  5.579344900000024\n",
      "time2 =  1.716472699999997\n",
      "time3 =  0.00046639999999342763   (using numpy)\n"
     ]
    }
   ],
   "source": [
    "import numpy as np\n",
    "import timeit as ti\n",
    "\n",
    "x = np.random.random((120,350))\n",
    "y = np.random.random((350,250))\n",
    "\n",
    "zeros = np.zeros((len(x),len(y[0])))\n",
    "\n",
    "def multiply1(x,y,res):\n",
    "    for i in range(len(x)):\n",
    "        for j in range(len(y[0])):\n",
    "            for k in range(len(y)):\n",
    "                res[i][j] += x[i][k] * y[k][j]\n",
    "    return res\n",
    "\n",
    "def multiply2(x,y):\n",
    "    return [[sum(x*y for x,y in zip(x_row,y_col)) \n",
    "             for y_col in zip(*y)] \n",
    "            for x_row in x]\n",
    "\n",
    "def multiply3(x,y):\n",
    "    return np.dot(x,y)\n",
    "\n",
    "start = ti.default_timer()\n",
    "res1 = multiply1(x,y,zeros)\n",
    "middle1 = ti.default_timer()\n",
    "res2 = multiply2(x,y)\n",
    "middle2 = ti.default_timer()\n",
    "res3 = multiply3(x,y)\n",
    "end = ti.default_timer()\n",
    "\n",
    "print(\"time1 = \",middle1-start)\n",
    "print(\"time2 = \",middle2-middle1)\n",
    "print(\"time3 = \",end-middle2,\"  (using numpy)\")"
   ]
  },
  {
   "cell_type": "code",
   "execution_count": null,
   "id": "b42c6acf",
   "metadata": {},
   "outputs": [],
   "source": []
  }
 ],
 "metadata": {
  "kernelspec": {
   "display_name": "Python 3 (ipykernel)",
   "language": "python",
   "name": "python3"
  },
  "language_info": {
   "codemirror_mode": {
    "name": "ipython",
    "version": 3
   },
   "file_extension": ".py",
   "mimetype": "text/x-python",
   "name": "python",
   "nbconvert_exporter": "python",
   "pygments_lexer": "ipython3",
   "version": "3.9.7"
  }
 },
 "nbformat": 4,
 "nbformat_minor": 5
}
