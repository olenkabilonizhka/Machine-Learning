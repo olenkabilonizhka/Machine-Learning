{
 "cells": [
  {
   "cell_type": "markdown",
   "metadata": {},
   "source": [
    "В цій практичній роботі ми спробуємо реалізувати нейронну мережу з двох шарів (прихований і вихідний). Запропонований підхід стане заготовкою для реалізації наступних оптимізацій: MBGD, ADAM та регуляризації. \n",
    "\n",
    "Сьогодні ж вам пропонується додати до цього класу підтримку довільної кількості шарів та нейронів в них (наприклад, передавати їх параметром в конструктор, як це робиться в MLPClassifier за допомогою hidden_layer_sizes). Також потрібно передбачити можливість ранньої зупинки ітераційного процесу, якщо значення штрафної функції не покращуватиметься протягом певної кількості ітерацій. Наприклад, якщо протягом $k$ ітерацій штрафна функція за модулем не стане меншою, ніж на поточному кроці."
   ]
  },
  {
   "cell_type": "code",
   "execution_count": 1,
   "metadata": {},
   "outputs": [],
   "source": [
    "import numpy as np\n",
    "import pandas as pd\n",
    "from sklearn.model_selection import train_test_split\n",
    "from mpl_toolkits.mplot3d import Axes3D\n",
    "import matplotlib.pyplot as plt\n",
    "\n",
    "from matplotlib.colors import ListedColormap\n",
    "cm_bright = ListedColormap(['#FF0000', '#0000FF'])\n",
    "%matplotlib inline\n",
    "from sklearn.metrics import accuracy_score\n",
    "\n",
    "import sklearn.linear_model"
   ]
  },
  {
   "cell_type": "code",
   "execution_count": 2,
   "metadata": {},
   "outputs": [],
   "source": [
    "def plot_surface(cls, x_1, x_2, ax=None, threshold=0.5, contourf=False):\n",
    "    xx1, xx2 = np.meshgrid(np.linspace(x_1.min(), x_1.max(), 100), \n",
    "                           np.linspace(x_2.min(), x_2.max(), 100))\n",
    "\n",
    "    X_pred = np.c_[xx1.ravel(), xx2.ravel()]\n",
    "    pred = cls.predict_proba(X_pred)[:, 0]\n",
    "    Z = pred.reshape((100, 100))\n",
    "    if ax is None:\n",
    "        ax = plt.gca()\n",
    "    ax.contour(xx1, xx2, Z, levels=[threshold], colors='black')\n",
    "    ax.set_xlim((x_1.min(), x_1.max()))\n",
    "    ax.set_ylim((x_2.min(), x_2.max()))"
   ]
  },
  {
   "cell_type": "code",
   "execution_count": 3,
   "metadata": {},
   "outputs": [],
   "source": [
    "def plot_data(X, y):\n",
    "    ax = plt.gca()\n",
    "    ax.scatter(X[:,0], X[:,1], c=(y == 1), cmap=cm_bright)"
   ]
  },
  {
   "cell_type": "code",
   "execution_count": 4,
   "metadata": {},
   "outputs": [],
   "source": [
    "class NeuralNet:\n",
    "    \n",
    "    def __init__(self, layers_sizes, normalize = True, learning_rate = 0.01, num_iter = 15000, costs_iters=300, tol=1e-7):\n",
    "        self.learning_rate = learning_rate\n",
    "        self.num_iter = num_iter\n",
    "        self.normalize = normalize\n",
    "        self.layers_sizes = layers_sizes\n",
    "        self.tol = tol\n",
    "        self.layers = len(layers_sizes) + 1\n",
    "        print(\"Layers: {}\".format(self.layers))\n",
    "        self.costs_iters = costs_iters\n",
    "    \n",
    "    def __normalize(self, X, mean = None, std = None):\n",
    "        n = X.shape[0]\n",
    "        m = mean\n",
    "        if m is None:\n",
    "            m = np.mean(X, axis=1).reshape((n, 1))\n",
    "        s = std\n",
    "        if s is None:\n",
    "            s = np.std(X, axis=1).reshape((n, 1))\n",
    "        X_new = (X - m) / s\n",
    "        return X_new, m, s\n",
    "\n",
    "    def __sigmoid(self, Z):\n",
    "        return 1 / (1 + np.exp(-Z))\n",
    "    \n",
    "    def __sigmoid_derivative(self, A):\n",
    "        return np.multiply(A, 1 - A)\n",
    "    \n",
    "    def __initialize_parameters(self):\n",
    "        W, b = [], []\n",
    "        \n",
    "        for l in range(1,self.layers+1):\n",
    "            W_l = np.random.randn(self.layers_sizes[l], self.layers_sizes[l-1]) * 0.01\n",
    "            b_l = np.zeros((self.layers_sizes[l], 1))\n",
    "            W.append(W_l)\n",
    "            b.append(b_l)\n",
    "        \n",
    "        self.parameters = {\"W\" : W, \"b\" : b}\n",
    "        \n",
    "        for key in self.parameters:\n",
    "            for key_i,i in zip(self.parameters[key],range(len(self.parameters[key]))):\n",
    "                print(\"{}{}: {}\".format(key,i+1,key_i.shape))\n",
    "       \n",
    "    def __forward_propagation(self, X):            \n",
    "        W = self.parameters[\"W\"]\n",
    "        b = self.parameters[\"b\"]\n",
    "        Z, A = [], [] \n",
    "\n",
    "        A.append(X)\n",
    "        for l in range(0,self.layers):\n",
    "            Z_l = np.dot(W[l],A[l]) + b[l]\n",
    "            A_l = self.__sigmoid(Z_l)\n",
    "            Z.append(Z_l)\n",
    "            A.append(A_l)\n",
    "        \n",
    "        cache = (Z,A)\n",
    "        return A[-1], cache\n",
    "    \n",
    "    def compute_cost(self, A, Y):\n",
    "        m = Y.shape[1]\n",
    "        res = Y * np.log(A) + (1 - Y) * np.log(1 - A)\n",
    "        J = -(1 / m) * np.sum(res)\n",
    "        return J\n",
    "    \n",
    "    def __backward_propagation(self, X, Y, cache):\n",
    "        m = X.shape[1]\n",
    "        \n",
    "        W = self.parameters[\"W\"]\n",
    "        b = self.parameters[\"b\"]\n",
    "        (Z,A) = cache\n",
    "        \n",
    "        dZ, dW, db = [], [], []\n",
    "        \n",
    "        dZ_l = A[-1] - Y\n",
    "        dW_l = 1. / m * np.dot(dZ_l, A[-2].T)\n",
    "        db_l = 1. / m * np.sum(dZ_l, axis = 1, keepdims = True)\n",
    "        \n",
    "        dZ.insert(0,dZ_l)\n",
    "        dW.insert(0,dW_l)\n",
    "        db.insert(0,db_l)\n",
    "        \n",
    "        for l in range(self.layers-1,0,-1):\n",
    "            dA_l = np.dot(W[l].T,dZ_l)\n",
    "            dZ_l = np.multiply(dA_l, self.__sigmoid_derivative(A[l]))\n",
    "            dW_l = 1. / m * np.dot(dZ_l, A[l-1].T)\n",
    "            db_l = 1. / m * np.sum(dZ_l, axis = 1, keepdims = True)\n",
    "            dZ.insert(0,dZ_l)\n",
    "            dW.insert(0,dW_l)\n",
    "            db.insert(0,db_l)\n",
    "        \n",
    "        grads = {\"dZ\":dZ,\"dW\":dW,\"db\":db}\n",
    "        return grads\n",
    "  \n",
    "    \n",
    "    def __update_parameters(self, grads):        \n",
    "        W = self.parameters[\"W\"]\n",
    "        b = self.parameters[\"b\"]\n",
    "        dW = grads[\"dW\"]\n",
    "        db = grads[\"db\"]\n",
    "    \n",
    "        for l in range(0,len(W)):\n",
    "            W[l] = W[l] - self.learning_rate * dW[l]\n",
    "            b[l] = b[l] - self.learning_rate * db[l]\n",
    "            \n",
    "        self.parameters[\"W\"] = W\n",
    "        self.parameters[\"b\"] = b\n",
    "\n",
    "        \n",
    "    def fit(self, X_vert, Y_vert, print_cost = True):\n",
    "        \n",
    "        X, Y = X_vert.T, Y_vert.T\n",
    "        \n",
    "        if self.normalize:\n",
    "            X, self.__mean, self.__std = self.__normalize(X)\n",
    "        \n",
    "        costs = []\n",
    "        costs_imp = []\n",
    "        \n",
    "        m = X.shape[1]\n",
    "        n_x = X.shape[0]\n",
    "        \n",
    "        self.layers_sizes.insert(0,n_x)\n",
    "        self.layers_sizes.append(1);\n",
    "        \n",
    "        self.__initialize_parameters()\n",
    "\n",
    "        for i in range(self.num_iter):\n",
    "            A, cache = self.__forward_propagation(X)\n",
    "\n",
    "            cost = self.compute_cost(A, Y)\n",
    "            \n",
    "            grads = self.__backward_propagation(X, Y, cache)\n",
    "\n",
    "            self.__update_parameters(grads)\n",
    "\n",
    "            if print_cost and i % 1000 == 0:\n",
    "                print(\"{}-th iteration: {}\".format(i, cost))\n",
    "\n",
    "            if i % 1000 == 0:\n",
    "                costs.append(cost)\n",
    "            \n",
    "            costs_imp.append(cost)\n",
    "            if i > self.costs_iters:\n",
    "                len_imp = len(costs_imp)-1\n",
    "                if abs(costs_imp[len_imp] - costs_imp[len_imp-self.costs_iters]) < self.tol:\n",
    "                    print(\"Stop iteration: {}\".format(i))\n",
    "                    break;\n",
    "\n",
    "        if print_cost:\n",
    "            plt.plot(costs)\n",
    "            plt.ylabel(\"Cost\")\n",
    "            plt.xlabel(\"Iteration, *1000\")\n",
    "            plt.show()\n",
    "    \n",
    "    def predict_proba(self, X_vert):\n",
    "        X = X_vert.T\n",
    "        if self.normalize:\n",
    "            X, _, _ = self.__normalize(X, self.__mean, self.__std)\n",
    "        \n",
    "        probs = self.__forward_propagation(X)[0]\n",
    "        \n",
    "        return np.column_stack((probs.T, 1 - probs.T))\n",
    "    \n",
    "    def predict(self, X_vert):\n",
    "        positive_probs = self.predict_proba(X_vert)[:, 0]\n",
    "        return (positive_probs >= 0.5).astype(int)   \n"
   ]
  },
  {
   "cell_type": "markdown",
   "metadata": {},
   "source": [
    "Спочатку спробуйте цей клас на одній задачі, а потім на іншій."
   ]
  },
  {
   "cell_type": "markdown",
   "metadata": {},
   "source": [
    "# Dataset 1"
   ]
  },
  {
   "cell_type": "code",
   "execution_count": 5,
   "metadata": {},
   "outputs": [
    {
     "name": "stdout",
     "output_type": "stream",
     "text": [
      "Training set: X=(100, 2), y=(100, 1)\n"
     ]
    }
   ],
   "source": [
    "data_columns = [\"exam1\", \"exam2\"]\n",
    "target_column = \"submitted\"\n",
    "df = pd.read_csv(\"sats.csv\")\n",
    "X, Y = df[data_columns].values, df[target_column].values.reshape((df.shape[0], 1))\n",
    "print('Training set: X={}, y={}'.format(X.shape, Y.shape))"
   ]
  },
  {
   "cell_type": "code",
   "execution_count": 6,
   "metadata": {},
   "outputs": [
    {
     "data": {
      "image/png": "[encoded data removed]",
      "text/plain": [
       "<Figure size 432x288 with 1 Axes>"
      ]
     },
     "metadata": {
      "needs_background": "light"
     },
     "output_type": "display_data"
    }
   ],
   "source": [
    "plot_data(X, Y)"
   ]
  },
  {
   "cell_type": "code",
   "execution_count": 7,
   "metadata": {},
   "outputs": [
    {
     "name": "stdout",
     "output_type": "stream",
     "text": [
      "Layers: 3\n"
     ]
    }
   ],
   "source": [
    "cls = NeuralNet(layers_sizes = [5,5], normalize = True, learning_rate = 0.1, num_iter = 12001, tol = 1e-7, costs_iters=500)"
   ]
  },
  {
   "cell_type": "code",
   "execution_count": 8,
   "metadata": {
    "scrolled": false
   },
   "outputs": [
    {
     "name": "stdout",
     "output_type": "stream",
     "text": [
      "W1: (5, 2)\n",
      "W2: (5, 5)\n",
      "W3: (1, 5)\n",
      "b1: (5, 1)\n",
      "b2: (5, 1)\n",
      "b3: (1, 1)\n",
      "0-th iteration: 0.6929428819445586\n",
      "1000-th iteration: 0.6730047345089705\n",
      "2000-th iteration: 0.6729920976791126\n",
      "3000-th iteration: 0.6729567564260499\n",
      "4000-th iteration: 0.6728400884462642\n",
      "5000-th iteration: 0.6722744479443817\n",
      "6000-th iteration: 0.6637905725761861\n",
      "7000-th iteration: 0.2812008292150347\n",
      "8000-th iteration: 0.2240302220116947\n",
      "9000-th iteration: 0.2060278681574579\n",
      "10000-th iteration: 0.16803827042990813\n",
      "11000-th iteration: 0.12624715827406058\n",
      "12000-th iteration: 0.09533289703486986\n"
     ]
    },
    {
     "data": {
      "image/png": "[encoded data removed]",
      "text/plain": [
       "<Figure size 432x288 with 1 Axes>"
      ]
     },
     "metadata": {
      "needs_background": "light"
     },
     "output_type": "display_data"
    }
   ],
   "source": [
    "cls.fit(X, Y)"
   ]
  },
  {
   "cell_type": "code",
   "execution_count": 9,
   "metadata": {
    "scrolled": false
   },
   "outputs": [
    {
     "name": "stdout",
     "output_type": "stream",
     "text": [
      "W:\n",
      "\n",
      "[[-1.13937418 -1.26320795]\n",
      " [ 3.44550618  0.41950804]\n",
      " [-0.61750559 -2.0034776 ]\n",
      " [-0.22228436 -2.46769041]\n",
      " [ 2.03888672  0.84374202]]\n",
      "\n",
      "[[-0.89637658  1.31363927 -1.02306209 -1.15570693  0.75542359]\n",
      " [-1.12094734  1.86068762 -1.25307764 -1.53911139  0.99538025]\n",
      " [-1.36672637  2.605693   -1.61455592 -2.05318014  1.28551329]\n",
      " [-0.85323876  1.22212464 -0.95481138 -1.11280938  0.72396145]\n",
      " [-1.58638259  3.14560975 -1.8695006  -2.42164546  1.51062689]]\n",
      "\n",
      "[[1.56989787 2.50215599 3.89248501 1.41852557 4.8865297 ]]\n",
      "\n",
      "b:\n",
      "\n",
      "[[-0.15441033]\n",
      " [ 2.94549695]\n",
      " [-1.08723613]\n",
      " [-2.21005683]\n",
      " [ 0.88253002]]\n",
      "\n",
      "[[-0.41891333]\n",
      " [-0.46964273]\n",
      " [-0.58859367]\n",
      " [-0.42122287]\n",
      " [-0.68638835]]\n",
      "\n",
      "[[-6.05903184]]\n",
      "\n"
     ]
    }
   ],
   "source": [
    "for key in cls.parameters:\n",
    "    print(\"{}:\\n\".format(key))\n",
    "    for i in cls.parameters[key]:\n",
    "        print(\"{}\\n\".format(i))"
   ]
  },
  {
   "cell_type": "code",
   "execution_count": 10,
   "metadata": {
    "scrolled": true
   },
   "outputs": [
    {
     "data": {
      "text/plain": [
       "array([[3.47339293e-02, 9.65266071e-01],\n",
       "       [2.96060324e-03, 9.97039397e-01],\n",
       "       [2.12612737e-02, 9.78738726e-01],\n",
       "       [9.98460702e-01, 1.53929754e-03],\n",
       "       [9.98968035e-01, 1.03196505e-03],\n",
       "       [7.94416277e-03, 9.92055837e-01],\n",
       "       [9.98958855e-01, 1.04114500e-03],\n",
       "       [4.90616729e-01, 5.09383271e-01],\n",
       "       [9.99158903e-01, 8.41097095e-04],\n",
       "       [6.24957669e-01, 3.75042331e-01],\n",
       "       [5.49576404e-01, 4.50423596e-01],\n",
       "       [1.79172214e-02, 9.82082779e-01],\n",
       "       [9.99063449e-01, 9.36551203e-04],\n",
       "       [9.99177577e-01, 8.22423058e-04],\n",
       "       [6.87168589e-02, 9.31283141e-01],\n",
       "       [9.97124264e-01, 2.87573599e-03],\n",
       "       [8.00413852e-01, 1.99586148e-01],\n",
       "       [1.58515842e-01, 8.41484158e-01],\n",
       "       [9.99150791e-01, 8.49209037e-04],\n",
       "       [7.03889088e-01, 2.96110912e-01],\n",
       "       [4.61809254e-02, 9.53819075e-01],\n",
       "       [9.98783014e-01, 1.21698646e-03],\n",
       "       [6.70295445e-03, 9.93297046e-01],\n",
       "       [3.02653100e-03, 9.96973469e-01],\n",
       "       [9.98544993e-01, 1.45500719e-03],\n",
       "       [9.94707050e-01, 5.29295009e-03],\n",
       "       [5.68751675e-01, 4.31248325e-01],\n",
       "       [5.04632566e-01, 4.95367434e-01],\n",
       "       [1.21085431e-01, 8.78914569e-01],\n",
       "       [1.10685466e-02, 9.88931453e-01],\n",
       "       [9.95964227e-01, 4.03577292e-03],\n",
       "       [9.96003144e-01, 3.99685621e-03],\n",
       "       [3.00171023e-01, 6.99828977e-01],\n",
       "       [8.14601550e-01, 1.85398450e-01],\n",
       "       [3.48930919e-02, 9.65106908e-01],\n",
       "       [2.67521984e-02, 9.73247802e-01],\n",
       "       [3.61202734e-01, 6.38797266e-01],\n",
       "       [9.98518143e-01, 1.48185711e-03],\n",
       "       [1.17691850e-01, 8.82308150e-01],\n",
       "       [2.31076450e-02, 9.76892355e-01],\n",
       "       [9.94695586e-01, 5.30441428e-03],\n",
       "       [6.21851624e-03, 9.93781484e-01],\n",
       "       [9.98890165e-01, 1.10983535e-03],\n",
       "       [2.68165202e-01, 7.31834798e-01],\n",
       "       [5.42273251e-03, 9.94577267e-01],\n",
       "       [2.50133379e-01, 7.49866621e-01],\n",
       "       [9.98638221e-01, 1.36177873e-03],\n",
       "       [9.99262159e-01, 7.37840888e-04],\n",
       "       [9.99004963e-01, 9.95036906e-04],\n",
       "       [9.99254800e-01, 7.45200092e-04],\n",
       "       [9.98947950e-01, 1.05204977e-03],\n",
       "       [9.98684498e-01, 1.31550161e-03],\n",
       "       [8.13591408e-01, 1.86408592e-01],\n",
       "       [5.46053964e-03, 9.94539460e-01],\n",
       "       [7.19716008e-03, 9.92802840e-01],\n",
       "       [4.20503530e-02, 9.57949647e-01],\n",
       "       [9.99068677e-01, 9.31323068e-04],\n",
       "       [2.00112579e-01, 7.99887421e-01],\n",
       "       [9.98374276e-01, 1.62572436e-03],\n",
       "       [9.98864237e-01, 1.13576330e-03],\n",
       "       [9.99129931e-01, 8.70068643e-04],\n",
       "       [3.19244305e-03, 9.96807557e-01],\n",
       "       [5.72832026e-03, 9.94271680e-01],\n",
       "       [3.23197080e-03, 9.96768029e-01],\n",
       "       [4.39300196e-02, 9.56069980e-01],\n",
       "       [2.74819070e-02, 9.72518093e-01],\n",
       "       [8.63043351e-01, 1.36956649e-01],\n",
       "       [7.80803143e-03, 9.92191969e-01],\n",
       "       [9.99227931e-01, 7.72068900e-04],\n",
       "       [9.83542252e-01, 1.64577475e-02],\n",
       "       [2.97051463e-03, 9.97029485e-01],\n",
       "       [9.98226210e-01, 1.77379049e-03],\n",
       "       [9.99197930e-01, 8.02070456e-04],\n",
       "       [9.95448254e-01, 4.55174642e-03],\n",
       "       [9.95752625e-01, 4.24737549e-03],\n",
       "       [9.99160027e-01, 8.39973249e-04],\n",
       "       [9.74168970e-01, 2.58310301e-02],\n",
       "       [9.27031742e-01, 7.29682585e-02],\n",
       "       [1.32204005e-02, 9.86779600e-01],\n",
       "       [4.43094542e-01, 5.56905458e-01],\n",
       "       [9.98974358e-01, 1.02564194e-03],\n",
       "       [9.55111155e-01, 4.48888450e-02],\n",
       "       [9.95758491e-01, 4.24150877e-03],\n",
       "       [5.60653523e-01, 4.39346477e-01],\n",
       "       [9.99221880e-01, 7.78120161e-04],\n",
       "       [9.98981549e-01, 1.01845093e-03],\n",
       "       [2.44164206e-01, 7.55835794e-01],\n",
       "       [9.99182089e-01, 8.17911486e-04],\n",
       "       [9.99241242e-01, 7.58758108e-04],\n",
       "       [1.63010140e-01, 8.36989860e-01],\n",
       "       [9.99187973e-01, 8.12026634e-04],\n",
       "       [9.99246663e-01, 7.53336712e-04],\n",
       "       [4.55029686e-03, 9.95449703e-01],\n",
       "       [9.99103116e-01, 8.96884125e-04],\n",
       "       [9.01414321e-01, 9.85856786e-02],\n",
       "       [9.23970667e-01, 7.60293331e-02],\n",
       "       [6.85451957e-01, 3.14548043e-01],\n",
       "       [9.99083827e-01, 9.16172510e-04],\n",
       "       [8.29652364e-01, 1.70347636e-01],\n",
       "       [9.99166580e-01, 8.33419928e-04]])"
      ]
     },
     "execution_count": 10,
     "metadata": {},
     "output_type": "execute_result"
    }
   ],
   "source": [
    "Y_prob = cls.predict_proba(X)\n",
    "Y_prob"
   ]
  },
  {
   "cell_type": "code",
   "execution_count": 11,
   "metadata": {},
   "outputs": [
    {
     "data": {
      "text/plain": [
       "array([0, 0, 0, 1, 1, 0, 1, 0, 1, 1, 1, 0, 1, 1, 0, 1, 1, 0, 1, 1, 0, 1,\n",
       "       0, 0, 1, 1, 1, 1, 0, 0, 1, 1, 0, 1, 0, 0, 0, 1, 0, 0, 1, 0, 1, 0,\n",
       "       0, 0, 1, 1, 1, 1, 1, 1, 1, 0, 0, 0, 1, 0, 1, 1, 1, 0, 0, 0, 0, 0,\n",
       "       1, 0, 1, 1, 0, 1, 1, 1, 1, 1, 1, 1, 0, 0, 1, 1, 1, 1, 1, 1, 0, 1,\n",
       "       1, 0, 1, 1, 0, 1, 1, 1, 1, 1, 1, 1])"
      ]
     },
     "execution_count": 11,
     "metadata": {},
     "output_type": "execute_result"
    }
   ],
   "source": [
    "Y_hat = cls.predict(X)\n",
    "Y_hat"
   ]
  },
  {
   "cell_type": "code",
   "execution_count": 12,
   "metadata": {},
   "outputs": [
    {
     "data": {
      "text/plain": [
       "0.97"
      ]
     },
     "execution_count": 12,
     "metadata": {},
     "output_type": "execute_result"
    }
   ],
   "source": [
    "accuracy_score(Y, Y_hat)"
   ]
  },
  {
   "cell_type": "code",
   "execution_count": 13,
   "metadata": {},
   "outputs": [
    {
     "data": {
      "image/png": "[encoded data removed]",
      "text/plain": [
       "<Figure size 432x288 with 1 Axes>"
      ]
     },
     "metadata": {
      "needs_background": "light"
     },
     "output_type": "display_data"
    }
   ],
   "source": [
    "plot_data(X, Y)\n",
    "plot_surface(cls, X[:, 0], X[:, 1])"
   ]
  },
  {
   "cell_type": "markdown",
   "metadata": {},
   "source": [
    "# Dataset 2"
   ]
  },
  {
   "cell_type": "code",
   "execution_count": 14,
   "metadata": {},
   "outputs": [
    {
     "name": "stdout",
     "output_type": "stream",
     "text": [
      "Training set: X=(118, 2), y=(118, 1)\n"
     ]
    }
   ],
   "source": [
    "data_columns = [\"test1\", \"test2\"]\n",
    "target_column = \"passed\"\n",
    "df = pd.read_csv(\"tests.csv\")\n",
    "X2, Y2 = df[data_columns].values, df[target_column].values.reshape((df.shape[0], 1))\n",
    "print('Training set: X={}, y={}'.format(X2.shape, Y2.shape))"
   ]
  },
  {
   "cell_type": "code",
   "execution_count": 15,
   "metadata": {},
   "outputs": [
    {
     "data": {
      "image/png": "[encoded data removed]",
      "text/plain": [
       "<Figure size 432x288 with 1 Axes>"
      ]
     },
     "metadata": {
      "needs_background": "light"
     },
     "output_type": "display_data"
    }
   ],
   "source": [
    "plot_data(X2, Y2)"
   ]
  },
  {
   "cell_type": "code",
   "execution_count": 16,
   "metadata": {},
   "outputs": [
    {
     "name": "stdout",
     "output_type": "stream",
     "text": [
      "Layers: 3\n"
     ]
    }
   ],
   "source": [
    "cls2 = NeuralNet(layers_sizes = [70,60], normalize = True, learning_rate = 0.5, num_iter = 20001, tol = 1e-7, costs_iters=500)"
   ]
  },
  {
   "cell_type": "code",
   "execution_count": 17,
   "metadata": {},
   "outputs": [
    {
     "name": "stdout",
     "output_type": "stream",
     "text": [
      "W1: (70, 2)\n",
      "W2: (60, 70)\n",
      "W3: (1, 60)\n",
      "b1: (70, 1)\n",
      "b2: (60, 1)\n",
      "b3: (1, 1)\n",
      "0-th iteration: 0.6932406193569514\n",
      "1000-th iteration: 0.6930034855527166\n",
      "2000-th iteration: 0.6930031519022005\n",
      "3000-th iteration: 0.6930027751255101\n",
      "4000-th iteration: 0.693002296228847\n",
      "5000-th iteration: 0.6930016245494197\n",
      "6000-th iteration: 0.6930005997078663\n",
      "7000-th iteration: 0.6929989049668868\n",
      "8000-th iteration: 0.6929958421899999\n",
      "9000-th iteration: 0.6929896560282762\n",
      "10000-th iteration: 0.6929750810611368\n",
      "11000-th iteration: 0.6929317032273024\n",
      "12000-th iteration: 0.692742080554977\n",
      "13000-th iteration: 0.6915181957314726\n",
      "14000-th iteration: 0.6907078413066136\n",
      "15000-th iteration: 0.6899993773957367\n",
      "16000-th iteration: 0.6845303032061439\n",
      "17000-th iteration: 0.6223962696386874\n",
      "18000-th iteration: 0.44103744103854375\n",
      "19000-th iteration: 0.3408060856173626\n",
      "20000-th iteration: 0.3189951561629075\n"
     ]
    },
    {
     "data": {
      "image/png": "[encoded data removed]",
      "text/plain": [
       "<Figure size 432x288 with 1 Axes>"
      ]
     },
     "metadata": {
      "needs_background": "light"
     },
     "output_type": "display_data"
    }
   ],
   "source": [
    "cls2.fit(X2, Y2)"
   ]
  },
  {
   "cell_type": "code",
   "execution_count": 18,
   "metadata": {},
   "outputs": [
    {
     "name": "stdout",
     "output_type": "stream",
     "text": [
      "W:\n",
      "\n",
      "[[-6.88598038e-01 -1.80400197e-01]\n",
      " [ 6.13626097e-01  5.79333933e-01]\n",
      " [-7.50439776e-01 -1.88771218e-01]\n",
      " [-2.69979572e-01  3.42964240e-01]\n",
      " [-9.03450753e-01 -4.89523014e-01]\n",
      " [ 7.18119371e-01  5.71362803e-01]\n",
      " [-5.70018210e-01  1.42859681e-01]\n",
      " [-7.25624247e-01  1.38291966e+00]\n",
      " [ 1.16349785e+00  6.42124830e-01]\n",
      " [ 9.69202061e-01  5.63697974e-01]\n",
      " [-1.17981639e+00 -6.98082347e-01]\n",
      " [ 8.43387742e-01  4.72298468e-01]\n",
      " [ 7.29716922e-01  5.13276869e-01]\n",
      " [-5.30804413e-01  2.89976468e-01]\n",
      " [ 8.05237523e-01  4.13546444e-01]\n",
      " [-8.27606716e-01 -2.61611101e-01]\n",
      " [ 8.68838558e-01  6.01049505e-01]\n",
      " [-6.25293524e-02  4.48172913e-01]\n",
      " [ 1.10221673e-01  6.65506084e-01]\n",
      " [-2.73622565e-01  2.88648786e-01]\n",
      " [ 6.11210201e-01  4.52617985e-01]\n",
      " [-1.35613583e-02  1.50063529e-01]\n",
      " [-6.96121206e-01 -7.61556690e-03]\n",
      " [ 3.61768974e-01  2.44943227e-01]\n",
      " [-5.68968574e-01 -3.02470646e-02]\n",
      " [ 1.00607315e+00  5.98677373e-01]\n",
      " [ 2.08398043e-01  7.07340469e-01]\n",
      " [-2.57271755e-01  6.52969121e-01]\n",
      " [ 8.65958258e-01  6.69310026e-01]\n",
      " [-5.11705563e-01 -2.03313199e-01]\n",
      " [ 9.69492764e-01  5.03965097e-01]\n",
      " [-8.34151118e-02  8.84032685e-01]\n",
      " [-1.03887636e+00 -5.25235960e-01]\n",
      " [ 7.19711414e-01  5.30963322e-01]\n",
      " [ 1.00314418e+00  4.59600445e-01]\n",
      " [ 7.20931914e-01  6.83299178e-01]\n",
      " [-1.18126571e+00 -6.73907755e-01]\n",
      " [-4.19748326e-01 -5.59639784e-02]\n",
      " [-7.46622111e-01 -8.96163721e-02]\n",
      " [ 8.37399826e-01  5.58111066e-01]\n",
      " [ 4.81669662e-01  4.49508631e-01]\n",
      " [-6.98918218e-01  1.02309763e+00]\n",
      " [ 8.32008376e-01  5.08930129e-01]\n",
      " [ 6.41783355e-01  4.39953939e-01]\n",
      " [ 6.84485281e-01  5.33639609e-01]\n",
      " [ 5.32492818e-04 -7.68459834e-02]\n",
      " [-5.60238820e-01  2.83508134e-01]\n",
      " [ 4.17104370e-01  4.54669511e-01]\n",
      " [-6.08343158e-01  1.59557463e-01]\n",
      " [ 9.57271220e-01  5.38826426e-01]\n",
      " [-1.05246383e+00 -5.92585185e-01]\n",
      " [-4.41888168e-01  8.33720072e-01]\n",
      " [ 7.25811558e-01  3.52412021e-01]\n",
      " [-4.07522806e-01  5.76163238e-01]\n",
      " [ 1.00211781e+00  4.75768536e-01]\n",
      " [ 9.26197347e-01  5.33705351e-01]\n",
      " [-7.88184765e-01 -2.38196849e-01]\n",
      " [ 4.97489526e-02  3.28860402e-01]\n",
      " [ 6.32281569e-01  7.44611670e-01]\n",
      " [ 1.88487985e-01  9.01166391e-01]\n",
      " [-1.14315881e+00 -6.55011434e-01]\n",
      " [ 1.17452165e+00  5.16337551e-01]\n",
      " [ 3.10451668e-01 -2.73483499e-01]\n",
      " [-6.06794463e-01  7.40259169e-01]\n",
      " [ 7.08159558e-01 -1.43373668e+00]\n",
      " [-9.91110388e-01 -5.88940697e-01]\n",
      " [-4.53684184e-01  2.69396168e-01]\n",
      " [ 5.78988057e-01  4.75117683e-01]\n",
      " [ 6.27739323e-01 -4.44025703e+00]\n",
      " [-3.65982541e-01  7.09442395e-01]]\n",
      "\n",
      "[[-0.05003208 -0.032802   -0.03801614 ... -0.05366018  0.59391935\n",
      "  -0.01845962]\n",
      " [ 0.20541128 -0.14584637  0.19827069 ... -0.15870882 -1.91816496\n",
      "   0.02575438]\n",
      " [ 0.03970114 -0.11404101  0.04758665 ... -0.09264192 -0.56504713\n",
      "  -0.1214896 ]\n",
      " ...\n",
      " [ 0.13711549 -0.16076761  0.15935752 ... -0.09792427 -1.281634\n",
      "  -0.04460557]\n",
      " [ 0.06206647 -0.12638464  0.08478458 ... -0.08934528 -0.82152766\n",
      "  -0.10448365]\n",
      " [ 0.15894002 -0.15333286  0.17186713 ... -0.15043091 -1.30293212\n",
      "  -0.01938247]]\n",
      "\n",
      "[[ 0.37490433 -1.72442075 -0.81061493  0.9218398  -0.68813352 -0.71262425\n",
      "   0.06263334  0.13992845 -0.59858145 -0.08547159 -0.75136297 -1.2479282\n",
      "  -0.89931807 -0.14662078 -1.79794102 -0.77763068 -0.45628518 -1.02065926\n",
      "  -0.68757082  0.8202092  -1.08534859 -0.68814027 -0.440807   -0.42679708\n",
      "  -0.57758087 -1.36887939 -1.58108886  0.23634933 -0.20914794 -0.80726798\n",
      "   3.69131991 -0.36243083 -1.10974855 -0.0479493   7.14139991 -1.61718085\n",
      "  -0.46025373 -3.91488449 -1.30725304 -1.1942803  -0.62936015  0.56756582\n",
      "  -1.45247327 -1.18322582 -0.18817186  0.52150675  0.19642934 -0.81406194\n",
      "  -0.74466135  0.36284117 -0.85010957 -1.77610871 -0.81836275 -2.42855021\n",
      "  -1.36183145 -0.81729738 -0.6620379  -1.28777214 -0.96628153 -1.33109449]]\n",
      "\n",
      "b:\n",
      "\n",
      "[[-0.24523361]\n",
      " [-0.11797191]\n",
      " [-0.25538208]\n",
      " [-0.20749794]\n",
      " [-0.19655705]\n",
      " [-0.14511194]\n",
      " [-0.21892339]\n",
      " [ 1.66094072]\n",
      " [-0.09841242]\n",
      " [-0.12835233]\n",
      " [-0.18623106]\n",
      " [-0.1488656 ]\n",
      " [-0.1810288 ]\n",
      " [-0.12800607]\n",
      " [-0.15349945]\n",
      " [-0.23623991]\n",
      " [-0.13427443]\n",
      " [-0.17877164]\n",
      " [ 0.08999817]\n",
      " [-0.21200188]\n",
      " [-0.19974094]\n",
      " [-0.21187871]\n",
      " [-0.23018944]\n",
      " [-0.2106622 ]\n",
      " [-0.24072558]\n",
      " [-0.12542629]\n",
      " [ 0.14954763]\n",
      " [ 0.14645293]\n",
      " [-0.01609078]\n",
      " [-0.19072719]\n",
      " [-0.11562072]\n",
      " [ 0.55857854]\n",
      " [-0.19826322]\n",
      " [-0.17020862]\n",
      " [-0.08939803]\n",
      " [ 0.0314775 ]\n",
      " [-0.17285535]\n",
      " [-0.20542282]\n",
      " [-0.24786573]\n",
      " [-0.16028444]\n",
      " [-0.2018776 ]\n",
      " [ 1.4870161 ]\n",
      " [-0.16288916]\n",
      " [-0.19552763]\n",
      " [-0.17903349]\n",
      " [-0.18405665]\n",
      " [-0.09145235]\n",
      " [-0.20152763]\n",
      " [-0.18909808]\n",
      " [-0.12792048]\n",
      " [-0.18626612]\n",
      " [ 0.59638642]\n",
      " [-0.16299592]\n",
      " [ 0.13243781]\n",
      " [-0.092333  ]\n",
      " [-0.14117143]\n",
      " [-0.25441701]\n",
      " [-0.21649735]\n",
      " [ 0.19027602]\n",
      " [ 0.56894674]\n",
      " [-0.17917285]\n",
      " [-0.08117516]\n",
      " [-0.20136402]\n",
      " [ 0.60390505]\n",
      " [-2.06779057]\n",
      " [-0.19556162]\n",
      " [-0.19954533]\n",
      " [-0.20007406]\n",
      " [ 4.36725986]\n",
      " [ 0.32726245]]\n",
      "\n",
      "[[-0.1597756 ]\n",
      " [ 0.05178352]\n",
      " [ 0.05606314]\n",
      " [-0.21211958]\n",
      " [ 0.03159425]\n",
      " [ 0.03725258]\n",
      " [-0.12853971]\n",
      " [-0.14161821]\n",
      " [ 0.00950822]\n",
      " [-0.112392  ]\n",
      " [ 0.04519018]\n",
      " [ 0.10091547]\n",
      " [ 0.0753295 ]\n",
      " [-0.0991411 ]\n",
      " [ 0.05623616]\n",
      " [ 0.05490678]\n",
      " [-0.03052785]\n",
      " [ 0.09186539]\n",
      " [ 0.03188553]\n",
      " [-0.19651351]\n",
      " [ 0.10115474]\n",
      " [ 0.03003909]\n",
      " [-0.03272239]\n",
      " [-0.03595142]\n",
      " [ 0.00269696]\n",
      " [ 0.08565794]\n",
      " [ 0.08962868]\n",
      " [-0.14662069]\n",
      " [-0.09112201]\n",
      " [ 0.05710505]\n",
      " [-0.57184862]\n",
      " [-0.05114458]\n",
      " [ 0.10091706]\n",
      " [-0.11493211]\n",
      " [ 0.08146851]\n",
      " [ 0.06110901]\n",
      " [-0.02616713]\n",
      " [ 0.51657274]\n",
      " [ 0.10135401]\n",
      " [ 0.09451199]\n",
      " [ 0.01581997]\n",
      " [-0.17776098]\n",
      " [ 0.10293342]\n",
      " [ 0.09690115]\n",
      " [-0.09605735]\n",
      " [-0.17591258]\n",
      " [-0.15092529]\n",
      " [ 0.06256222]\n",
      " [ 0.0445798 ]\n",
      " [-0.15270929]\n",
      " [ 0.06496253]\n",
      " [ 0.0423273 ]\n",
      " [ 0.06099407]\n",
      " [ 0.29834294]\n",
      " [ 0.07862478]\n",
      " [ 0.06388778]\n",
      " [ 0.02294095]\n",
      " [ 0.10112274]\n",
      " [ 0.08484779]\n",
      " [ 0.098618  ]]\n",
      "\n",
      "[[-0.41276905]]\n",
      "\n"
     ]
    }
   ],
   "source": [
    "for key in cls2.parameters:\n",
    "    print(\"{}:\\n\".format(key))\n",
    "    for i in cls2.parameters[key]:\n",
    "        print(\"{}\\n\".format(i))"
   ]
  },
  {
   "cell_type": "code",
   "execution_count": 19,
   "metadata": {
    "scrolled": true
   },
   "outputs": [
    {
     "data": {
      "text/plain": [
       "array([[0.58949399, 0.41050601],\n",
       "       [0.96937634, 0.03062366],\n",
       "       [0.24208879, 0.75791121],\n",
       "       [0.12822942, 0.87177058],\n",
       "       [0.03284712, 0.96715288],\n",
       "       [0.93348923, 0.06651077],\n",
       "       [0.01711953, 0.98288047],\n",
       "       [0.20583714, 0.79416286],\n",
       "       [0.82341366, 0.17658634],\n",
       "       [0.9689111 , 0.0310889 ],\n",
       "       [0.98874482, 0.01125518],\n",
       "       [0.23574405, 0.76425595],\n",
       "       [0.37253237, 0.62746763],\n",
       "       [0.03501384, 0.96498616],\n",
       "       [0.86289532, 0.13710468],\n",
       "       [0.22696699, 0.77303301],\n",
       "       [0.72808416, 0.27191584],\n",
       "       [0.71843038, 0.28156962],\n",
       "       [0.81542122, 0.18457878],\n",
       "       [0.10642312, 0.89357688],\n",
       "       [0.99683475, 0.00316525],\n",
       "       [0.9008518 , 0.0991482 ],\n",
       "       [0.88030616, 0.11969384],\n",
       "       [0.02431587, 0.97568413],\n",
       "       [0.26643905, 0.73356095],\n",
       "       [0.79689925, 0.20310075],\n",
       "       [0.12842947, 0.87157053],\n",
       "       [0.31102881, 0.68897119],\n",
       "       [0.45770109, 0.54229891],\n",
       "       [0.8892396 , 0.1107604 ],\n",
       "       [0.99318817, 0.00681183],\n",
       "       [0.56980912, 0.43019088],\n",
       "       [0.28417367, 0.71582633],\n",
       "       [0.96521566, 0.03478434],\n",
       "       [0.00219392, 0.99780608],\n",
       "       [0.64485138, 0.35514862],\n",
       "       [0.60920318, 0.39079682],\n",
       "       [0.04601159, 0.95398841],\n",
       "       [0.99896977, 0.00103023],\n",
       "       [0.01499129, 0.98500871],\n",
       "       [0.00578842, 0.99421158],\n",
       "       [0.60221582, 0.39778418],\n",
       "       [0.00992972, 0.99007028],\n",
       "       [0.12987592, 0.87012408],\n",
       "       [0.16731294, 0.83268706],\n",
       "       [0.98703533, 0.01296467],\n",
       "       [0.02948461, 0.97051539],\n",
       "       [0.0147756 , 0.9852244 ],\n",
       "       [0.06562353, 0.93437647],\n",
       "       [0.09614346, 0.90385654],\n",
       "       [0.67597767, 0.32402233],\n",
       "       [0.09991166, 0.90008834],\n",
       "       [0.9922827 , 0.0077173 ],\n",
       "       [0.00169259, 0.99830741],\n",
       "       [0.33684145, 0.66315855],\n",
       "       [0.0793512 , 0.9206488 ],\n",
       "       [0.00395888, 0.99604112],\n",
       "       [0.8809495 , 0.1190505 ],\n",
       "       [0.54405321, 0.45594679],\n",
       "       [0.77172353, 0.22827647],\n",
       "       [0.57148405, 0.42851595],\n",
       "       [0.9950036 , 0.0049964 ],\n",
       "       [0.02501064, 0.97498936],\n",
       "       [0.38228819, 0.61771181],\n",
       "       [0.97350202, 0.02649798],\n",
       "       [0.95295552, 0.04704448],\n",
       "       [0.00497591, 0.99502409],\n",
       "       [0.12039138, 0.87960862],\n",
       "       [0.45431806, 0.54568194],\n",
       "       [0.04195722, 0.95804278],\n",
       "       [0.98181507, 0.01818493],\n",
       "       [0.43163033, 0.56836967],\n",
       "       [0.9227989 , 0.0772011 ],\n",
       "       [0.7601498 , 0.2398502 ],\n",
       "       [0.65831931, 0.34168069],\n",
       "       [0.99835414, 0.00164586],\n",
       "       [0.45855524, 0.54144476],\n",
       "       [0.71678399, 0.28321601],\n",
       "       [0.41863596, 0.58136404],\n",
       "       [0.81011984, 0.18988016],\n",
       "       [0.01559658, 0.98440342],\n",
       "       [0.99677543, 0.00322457],\n",
       "       [0.99654231, 0.00345769],\n",
       "       [0.43645759, 0.56354241],\n",
       "       [0.5435871 , 0.4564129 ],\n",
       "       [0.70317851, 0.29682149],\n",
       "       [0.15956096, 0.84043904],\n",
       "       [0.13774788, 0.86225212],\n",
       "       [0.66576258, 0.33423742],\n",
       "       [0.00856963, 0.99143037],\n",
       "       [0.16159746, 0.83840254],\n",
       "       [0.98086241, 0.01913759],\n",
       "       [0.97173049, 0.02826951],\n",
       "       [0.02939955, 0.97060045],\n",
       "       [0.32460024, 0.67539976],\n",
       "       [0.03910831, 0.96089169],\n",
       "       [0.95498559, 0.04501441],\n",
       "       [0.04794879, 0.95205121],\n",
       "       [0.17432005, 0.82567995],\n",
       "       [0.69683421, 0.30316579],\n",
       "       [0.97264737, 0.02735263],\n",
       "       [0.97032866, 0.02967134],\n",
       "       [0.95063251, 0.04936749],\n",
       "       [0.00749436, 0.99250564],\n",
       "       [0.02383654, 0.97616346],\n",
       "       [0.95050976, 0.04949024],\n",
       "       [0.01171597, 0.98828403],\n",
       "       [0.59394416, 0.40605584],\n",
       "       [0.86396998, 0.13603002],\n",
       "       [0.99381356, 0.00618644],\n",
       "       [0.14385301, 0.85614699],\n",
       "       [0.92950882, 0.07049118],\n",
       "       [0.08627648, 0.91372352],\n",
       "       [0.9961694 , 0.0038306 ],\n",
       "       [0.36371021, 0.63628979],\n",
       "       [0.92824315, 0.07175685],\n",
       "       [0.1487468 , 0.8512532 ],\n",
       "       [0.09804943, 0.90195057]])"
      ]
     },
     "execution_count": 19,
     "metadata": {},
     "output_type": "execute_result"
    }
   ],
   "source": [
    "Y2_prob = cls2.predict_proba(X2)\n",
    "Y2_prob"
   ]
  },
  {
   "cell_type": "code",
   "execution_count": 20,
   "metadata": {},
   "outputs": [
    {
     "data": {
      "text/plain": [
       "array([1, 1, 0, 0, 0, 1, 0, 0, 1, 1, 1, 0, 0, 0, 1, 0, 1, 1, 1, 0, 1, 1,\n",
       "       1, 0, 0, 1, 0, 0, 0, 1, 1, 1, 0, 1, 0, 1, 1, 0, 1, 0, 0, 1, 0, 0,\n",
       "       0, 1, 0, 0, 0, 0, 1, 0, 1, 0, 0, 0, 0, 1, 1, 1, 1, 1, 0, 0, 1, 1,\n",
       "       0, 0, 0, 0, 1, 0, 1, 1, 1, 1, 0, 1, 0, 1, 0, 1, 1, 0, 1, 1, 0, 0,\n",
       "       1, 0, 0, 1, 1, 0, 0, 0, 1, 0, 0, 1, 1, 1, 1, 0, 0, 1, 0, 1, 1, 1,\n",
       "       0, 1, 0, 1, 0, 1, 0, 0])"
      ]
     },
     "execution_count": 20,
     "metadata": {},
     "output_type": "execute_result"
    }
   ],
   "source": [
    "Y2_hat = cls2.predict(X2)\n",
    "Y2_hat"
   ]
  },
  {
   "cell_type": "code",
   "execution_count": 21,
   "metadata": {},
   "outputs": [
    {
     "data": {
      "text/plain": [
       "0.847457627118644"
      ]
     },
     "execution_count": 21,
     "metadata": {},
     "output_type": "execute_result"
    }
   ],
   "source": [
    "accuracy_score(Y2, Y2_hat)"
   ]
  },
  {
   "cell_type": "code",
   "execution_count": 22,
   "metadata": {},
   "outputs": [
    {
     "data": {
      "image/png": "[encoded data removed]",
      "text/plain": [
       "<Figure size 432x288 with 1 Axes>"
      ]
     },
     "metadata": {
      "needs_background": "light"
     },
     "output_type": "display_data"
    }
   ],
   "source": [
    "plot_data(X2, Y2)\n",
    "plot_surface(cls2, X2[:, 0], X2[:, 1])"
   ]
  },
  {
   "cell_type": "markdown",
   "metadata": {},
   "source": [
    "Зверніть увагу на границю прийняття рішення. Модель старається побудувати складну криву, що може свідчити про її перетренування. Порівняйте отримані результати з класом з sklearn. Спробуйте додати нові шари для нашого класу та порівняти результати тоді. Поекспериментуйте з гіперпараметрами для обох класів."
   ]
  },
  {
   "cell_type": "code",
   "execution_count": 23,
   "metadata": {},
   "outputs": [],
   "source": [
    "from sklearn.neural_network import MLPClassifier\n",
    "clf = MLPClassifier(hidden_layer_sizes = (20,20), max_iter = 20001, solver = 'adam', activation = 'relu')#, solver = 'sgd', learning_rate_init = 0.01, learning_rate = 'constant')"
   ]
  },
  {
   "cell_type": "code",
   "execution_count": 24,
   "metadata": {},
   "outputs": [
    {
     "name": "stderr",
     "output_type": "stream",
     "text": [
      "D:\\university\\c3\\ml\\lectures\\l2\\test1\\lib\\site-packages\\sklearn\\neural_network\\_multilayer_perceptron.py:1109: DataConversionWarning: A column-vector y was passed when a 1d array was expected. Please change the shape of y to (n_samples, ), for example using ravel().\n",
      "  y = column_or_1d(y, warn=True)\n"
     ]
    },
    {
     "data": {
      "text/plain": [
       "MLPClassifier(hidden_layer_sizes=(20, 20), max_iter=20001)"
      ]
     },
     "execution_count": 24,
     "metadata": {},
     "output_type": "execute_result"
    }
   ],
   "source": [
    "clf.fit(X2, Y2)"
   ]
  },
  {
   "cell_type": "code",
   "execution_count": 25,
   "metadata": {},
   "outputs": [
    {
     "data": {
      "image/png": "[encoded data removed]",
      "text/plain": [
       "<Figure size 432x288 with 1 Axes>"
      ]
     },
     "metadata": {
      "needs_background": "light"
     },
     "output_type": "display_data"
    }
   ],
   "source": [
    "plot_data(X2, Y2)\n",
    "plot_surface(clf, X2[:, 0], X2[:, 1])"
   ]
  },
  {
   "cell_type": "code",
   "execution_count": 26,
   "metadata": {},
   "outputs": [
    {
     "data": {
      "text/plain": [
       "0.8559322033898306"
      ]
     },
     "execution_count": 26,
     "metadata": {},
     "output_type": "execute_result"
    }
   ],
   "source": [
    "accuracy_score(Y2, clf.predict(X2))"
   ]
  },
  {
   "cell_type": "code",
   "execution_count": 27,
   "metadata": {},
   "outputs": [
    {
     "data": {
      "text/plain": [
       "622"
      ]
     },
     "execution_count": 27,
     "metadata": {},
     "output_type": "execute_result"
    }
   ],
   "source": [
    "clf.n_iter_"
   ]
  },
  {
   "cell_type": "markdown",
   "metadata": {},
   "source": [
    "# Dataset 3"
   ]
  },
  {
   "cell_type": "code",
   "execution_count": 28,
   "metadata": {},
   "outputs": [
    {
     "name": "stdout",
     "output_type": "stream",
     "text": [
      "Training set: X=(118, 7), y=(118, 1)\n"
     ]
    }
   ],
   "source": [
    "data_columns = [\"test1\",\"test2\",\"test1test1\",\"test2test2\",\"test1test2\",\"test1test1test1\",\"test2test2test2\"]\n",
    "target_column = \"passed\"\n",
    "df = pd.read_csv(\"testsCom.csv\")\n",
    "X3, Y3 = df[data_columns].values, df[target_column].values.reshape((df.shape[0], 1))\n",
    "print('Training set: X={}, y={}'.format(X3.shape, Y3.shape))"
   ]
  },
  {
   "cell_type": "code",
   "execution_count": 29,
   "metadata": {},
   "outputs": [
    {
     "name": "stdout",
     "output_type": "stream",
     "text": [
      "Layers: 3\n"
     ]
    }
   ],
   "source": [
    "cls3 = NeuralNet(layers_sizes = [15,10], normalize = True, learning_rate = 0.3, num_iter = 10001, tol = 1e-7, costs_iters=500)"
   ]
  },
  {
   "cell_type": "code",
   "execution_count": 30,
   "metadata": {},
   "outputs": [
    {
     "name": "stdout",
     "output_type": "stream",
     "text": [
      "W1: (15, 7)\n",
      "W2: (10, 15)\n",
      "W3: (1, 10)\n",
      "b1: (15, 1)\n",
      "b2: (10, 1)\n",
      "b3: (1, 1)\n",
      "0-th iteration: 0.6930298574274395\n",
      "1000-th iteration: 0.6930032873601932\n",
      "2000-th iteration: 0.6930028511403395\n",
      "3000-th iteration: 0.6930021593432503\n",
      "4000-th iteration: 0.6930007338506419\n",
      "5000-th iteration: 0.6929969108354391\n",
      "6000-th iteration: 0.692981523542723\n",
      "7000-th iteration: 0.6928237265651563\n",
      "8000-th iteration: 0.48660357132096904\n",
      "9000-th iteration: 0.34440945359900604\n",
      "10000-th iteration: 0.33081392134028603\n"
     ]
    },
    {
     "data": {
      "image/png": "[encoded data removed]",
      "text/plain": [
       "<Figure size 432x288 with 1 Axes>"
      ]
     },
     "metadata": {
      "needs_background": "light"
     },
     "output_type": "display_data"
    }
   ],
   "source": [
    "cls3.fit(X3, Y3)"
   ]
  },
  {
   "cell_type": "code",
   "execution_count": 31,
   "metadata": {},
   "outputs": [
    {
     "name": "stdout",
     "output_type": "stream",
     "text": [
      "W:\n",
      "\n",
      "[[-1.13937418 -1.26320795]\n",
      " [ 3.44550618  0.41950804]\n",
      " [-0.61750559 -2.0034776 ]\n",
      " [-0.22228436 -2.46769041]\n",
      " [ 2.03888672  0.84374202]]\n",
      "\n",
      "[[-0.89637658  1.31363927 -1.02306209 -1.15570693  0.75542359]\n",
      " [-1.12094734  1.86068762 -1.25307764 -1.53911139  0.99538025]\n",
      " [-1.36672637  2.605693   -1.61455592 -2.05318014  1.28551329]\n",
      " [-0.85323876  1.22212464 -0.95481138 -1.11280938  0.72396145]\n",
      " [-1.58638259  3.14560975 -1.8695006  -2.42164546  1.51062689]]\n",
      "\n",
      "[[1.56989787 2.50215599 3.89248501 1.41852557 4.8865297 ]]\n",
      "\n",
      "b:\n",
      "\n",
      "[[-0.15441033]\n",
      " [ 2.94549695]\n",
      " [-1.08723613]\n",
      " [-2.21005683]\n",
      " [ 0.88253002]]\n",
      "\n",
      "[[-0.41891333]\n",
      " [-0.46964273]\n",
      " [-0.58859367]\n",
      " [-0.42122287]\n",
      " [-0.68638835]]\n",
      "\n",
      "[[-6.05903184]]\n",
      "\n"
     ]
    }
   ],
   "source": [
    "for key in cls.parameters:\n",
    "    print(\"{}:\\n\".format(key))\n",
    "    for i in cls.parameters[key]:\n",
    "        print(\"{}\\n\".format(i))"
   ]
  },
  {
   "cell_type": "code",
   "execution_count": 37,
   "metadata": {
    "scrolled": true
   },
   "outputs": [
    {
     "data": {
      "text/plain": [
       "array([[8.99378221e-01, 1.00621779e-01],\n",
       "       [8.82384180e-01, 1.17615820e-01],\n",
       "       [8.65324275e-01, 1.34675725e-01],\n",
       "       [9.36145668e-01, 6.38543319e-02],\n",
       "       [8.72610738e-01, 1.27389262e-01],\n",
       "       [8.64707147e-01, 1.35292853e-01],\n",
       "       [9.02167151e-01, 9.78328486e-02],\n",
       "       [8.03946291e-01, 1.96053709e-01],\n",
       "       [8.43851952e-01, 1.56148048e-01],\n",
       "       [7.13725749e-01, 2.86274251e-01],\n",
       "       [6.43946992e-01, 3.56053008e-01],\n",
       "       [6.49761843e-01, 3.50238157e-01],\n",
       "       [8.53513829e-01, 1.46486171e-01],\n",
       "       [7.21014770e-01, 2.78985230e-01],\n",
       "       [8.29527364e-01, 1.70472636e-01],\n",
       "       [9.22024529e-01, 7.79754709e-02],\n",
       "       [9.59243676e-01, 4.07563238e-02],\n",
       "       [5.82106684e-01, 4.17893316e-01],\n",
       "       [8.67688124e-01, 1.32311876e-01],\n",
       "       [7.24611433e-01, 2.75388567e-01],\n",
       "       [4.44893645e-01, 5.55106355e-01],\n",
       "       [6.87089895e-01, 3.12910105e-01],\n",
       "       [3.35541975e-01, 6.64458025e-01],\n",
       "       [1.70351238e-01, 8.29648762e-01],\n",
       "       [6.98491468e-01, 3.01508532e-01],\n",
       "       [4.29420288e-01, 5.70579712e-01],\n",
       "       [6.81033740e-01, 3.18966260e-01],\n",
       "       [2.82079854e-01, 7.17920146e-01],\n",
       "       [9.58970275e-01, 4.10297252e-02],\n",
       "       [6.18912380e-01, 3.81087620e-01],\n",
       "       [1.90864580e-01, 8.09135420e-01],\n",
       "       [6.33521241e-01, 3.66478759e-01],\n",
       "       [9.19063891e-01, 8.09361094e-02],\n",
       "       [9.57203697e-01, 4.27963027e-02],\n",
       "       [9.53706844e-01, 4.62931564e-02],\n",
       "       [9.41056942e-01, 5.89430581e-02],\n",
       "       [8.60809324e-01, 1.39190676e-01],\n",
       "       [9.44509341e-01, 5.54906590e-02],\n",
       "       [9.58563733e-01, 4.14362668e-02],\n",
       "       [8.99798740e-01, 1.00201260e-01],\n",
       "       [9.52870298e-01, 4.71297021e-02],\n",
       "       [9.39571728e-01, 6.04282716e-02],\n",
       "       [8.79029796e-01, 1.20970204e-01],\n",
       "       [9.55588593e-01, 4.44114067e-02],\n",
       "       [8.97515298e-01, 1.02484702e-01],\n",
       "       [9.14295904e-01, 8.57040956e-02],\n",
       "       [2.78949758e-01, 7.21050242e-01],\n",
       "       [9.57532102e-01, 4.24678979e-02],\n",
       "       [5.08677832e-01, 4.91322168e-01],\n",
       "       [7.22039735e-01, 2.77960265e-01],\n",
       "       [9.53900343e-01, 4.60996567e-02],\n",
       "       [9.71967625e-01, 2.80323751e-02],\n",
       "       [9.59738550e-01, 4.02614497e-02],\n",
       "       [9.68087862e-01, 3.19121382e-02],\n",
       "       [9.66082853e-01, 3.39171468e-02],\n",
       "       [9.28582890e-01, 7.14171103e-02],\n",
       "       [9.50297709e-01, 4.97022907e-02],\n",
       "       [8.82053510e-01, 1.17946490e-01],\n",
       "       [4.55623840e-02, 9.54437616e-01],\n",
       "       [4.48388730e-01, 5.51611270e-01],\n",
       "       [9.03555597e-01, 9.64444035e-02],\n",
       "       [1.95440455e-02, 9.80455955e-01],\n",
       "       [4.87486997e-03, 9.95125130e-01],\n",
       "       [2.43112640e-01, 7.56887360e-01],\n",
       "       [4.51237030e-02, 9.54876297e-01],\n",
       "       [6.84176424e-03, 9.93158236e-01],\n",
       "       [1.93960930e-01, 8.06039070e-01],\n",
       "       [2.26434160e-02, 9.77356584e-01],\n",
       "       [4.90250365e-02, 9.50974963e-01],\n",
       "       [2.55599372e-01, 7.44400628e-01],\n",
       "       [1.05812801e-01, 8.94187199e-01],\n",
       "       [1.11027405e-01, 8.88972595e-01],\n",
       "       [3.30418590e-02, 9.66958141e-01],\n",
       "       [3.70788690e-02, 9.62921131e-01],\n",
       "       [1.69125451e-02, 9.83087455e-01],\n",
       "       [4.08545379e-01, 5.91454621e-01],\n",
       "       [8.64701483e-01, 1.35298517e-01],\n",
       "       [6.00293464e-01, 3.99706536e-01],\n",
       "       [1.61494642e-02, 9.83850536e-01],\n",
       "       [6.07231289e-03, 9.93927687e-01],\n",
       "       [4.70313651e-01, 5.29686349e-01],\n",
       "       [4.46200178e-01, 5.53799822e-01],\n",
       "       [1.15195809e-02, 9.88480419e-01],\n",
       "       [3.26689530e-01, 6.73310470e-01],\n",
       "       [7.37144677e-04, 9.99262855e-01],\n",
       "       [6.29384253e-02, 9.37061575e-01],\n",
       "       [1.11603335e-01, 8.88396665e-01],\n",
       "       [6.87370983e-02, 9.31262902e-01],\n",
       "       [6.80196942e-01, 3.19803058e-01],\n",
       "       [2.11322250e-01, 7.88677750e-01],\n",
       "       [1.22860006e-01, 8.77139994e-01],\n",
       "       [3.54219437e-01, 6.45780563e-01],\n",
       "       [6.34697041e-01, 3.65302959e-01],\n",
       "       [1.58825881e-01, 8.41174119e-01],\n",
       "       [1.24013776e-01, 8.75986224e-01],\n",
       "       [2.13457905e-02, 9.78654209e-01],\n",
       "       [1.62497874e-03, 9.98375021e-01],\n",
       "       [2.44350019e-02, 9.75564998e-01],\n",
       "       [4.86318431e-04, 9.99513682e-01],\n",
       "       [7.20273045e-04, 9.99279727e-01],\n",
       "       [1.53067802e-02, 9.84693220e-01],\n",
       "       [2.28787596e-03, 9.97712124e-01],\n",
       "       [1.10426230e-01, 8.89573770e-01],\n",
       "       [1.93151353e-03, 9.98068486e-01],\n",
       "       [7.14111198e-01, 2.85888802e-01],\n",
       "       [2.26799761e-02, 9.77320024e-01],\n",
       "       [4.78569388e-01, 5.21430612e-01],\n",
       "       [9.22172341e-01, 7.78276585e-02],\n",
       "       [1.04946040e-01, 8.95053960e-01],\n",
       "       [3.28088032e-03, 9.96719120e-01],\n",
       "       [7.12263410e-04, 9.99287737e-01],\n",
       "       [5.97535044e-03, 9.94024650e-01],\n",
       "       [1.75614213e-02, 9.82438579e-01],\n",
       "       [1.31094650e-01, 8.68905350e-01],\n",
       "       [6.42477796e-02, 9.35752220e-01],\n",
       "       [7.49696219e-02, 9.25030378e-01],\n",
       "       [9.00708312e-01, 9.92916881e-02],\n",
       "       [6.97953256e-01, 3.02046744e-01]])"
      ]
     },
     "execution_count": 37,
     "metadata": {},
     "output_type": "execute_result"
    }
   ],
   "source": [
    "Y3_prob = cls3.predict_proba(X3)\n",
    "Y3_prob"
   ]
  },
  {
   "cell_type": "code",
   "execution_count": 38,
   "metadata": {},
   "outputs": [
    {
     "data": {
      "text/plain": [
       "array([1, 1, 1, 1, 1, 1, 1, 1, 1, 1, 1, 1, 1, 1, 1, 1, 1, 1, 1, 1, 0, 1,\n",
       "       0, 0, 1, 0, 1, 0, 1, 1, 0, 1, 1, 1, 1, 1, 1, 1, 1, 1, 1, 1, 1, 1,\n",
       "       1, 1, 0, 1, 1, 1, 1, 1, 1, 1, 1, 1, 1, 1, 0, 0, 1, 0, 0, 0, 0, 0,\n",
       "       0, 0, 0, 0, 0, 0, 0, 0, 0, 0, 1, 1, 0, 0, 0, 0, 0, 0, 0, 0, 0, 0,\n",
       "       1, 0, 0, 0, 1, 0, 0, 0, 0, 0, 0, 0, 0, 0, 0, 0, 1, 0, 0, 1, 0, 0,\n",
       "       0, 0, 0, 0, 0, 0, 1, 1])"
      ]
     },
     "execution_count": 38,
     "metadata": {},
     "output_type": "execute_result"
    }
   ],
   "source": [
    "Y3_hat = cls3.predict(X3)\n",
    "Y3_hat"
   ]
  },
  {
   "cell_type": "code",
   "execution_count": 39,
   "metadata": {},
   "outputs": [
    {
     "data": {
      "text/plain": [
       "0.864406779661017"
      ]
     },
     "execution_count": 39,
     "metadata": {},
     "output_type": "execute_result"
    }
   ],
   "source": [
    "accuracy_score(Y3, Y3_hat)"
   ]
  },
  {
   "cell_type": "code",
   "execution_count": null,
   "metadata": {},
   "outputs": [],
   "source": []
  }
 ],
 "metadata": {
  "anaconda-cloud": {},
  "kernelspec": {
   "display_name": "Python Test1",
   "language": "python",
   "name": "test1"
  },
  "language_info": {
   "codemirror_mode": {
    "name": "ipython",
    "version": 3
   },
   "file_extension": ".py",
   "mimetype": "text/x-python",
   "name": "python",
   "nbconvert_exporter": "python",
   "pygments_lexer": "ipython3",
   "version": "3.9.7"
  }
 },
 "nbformat": 4,
 "nbformat_minor": 1
}
